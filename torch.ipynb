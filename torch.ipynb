{
 "cells": [
  {
   "cell_type": "code",
   "id": "initial_id",
   "metadata": {
    "collapsed": true,
    "ExecuteTime": {
     "end_time": "2025-03-25T15:17:03.740513Z",
     "start_time": "2025-03-25T15:17:03.735614Z"
    }
   },
   "source": [
    "import torch\n",
    "torch.__version__, torch.cuda.is_available()"
   ],
   "outputs": [
    {
     "data": {
      "text/plain": [
       "('2.5.1+cu124', True)"
      ]
     },
     "execution_count": 5,
     "metadata": {},
     "output_type": "execute_result"
    }
   ],
   "execution_count": 5
  },
  {
   "metadata": {
    "ExecuteTime": {
     "end_time": "2025-03-25T15:23:34.033061Z",
     "start_time": "2025-03-25T15:23:34.030201Z"
    }
   },
   "cell_type": "code",
   "source": "import numpy as np",
   "id": "6d369dfecfe2862d",
   "outputs": [],
   "execution_count": 6
  },
  {
   "metadata": {
    "ExecuteTime": {
     "end_time": "2025-03-25T15:36:41.600415Z",
     "start_time": "2025-03-25T15:36:41.596444Z"
    }
   },
   "cell_type": "code",
   "source": [
    "device = torch.device(\"cuda:0\" if torch.cuda.is_available() else \"cpu\")\n",
    "device"
   ],
   "id": "3811babb01a42811",
   "outputs": [
    {
     "data": {
      "text/plain": [
       "device(type='cuda', index=0)"
      ]
     },
     "execution_count": 51,
     "metadata": {},
     "output_type": "execute_result"
    }
   ],
   "execution_count": 51
  },
  {
   "metadata": {
    "ExecuteTime": {
     "end_time": "2025-03-25T15:24:41.581802Z",
     "start_time": "2025-03-25T15:24:41.578201Z"
    }
   },
   "cell_type": "code",
   "source": [
    "a, b = np.random.randn(2, 3), np.random.randn(3)\n",
    "a"
   ],
   "id": "bdec16f4b724401",
   "outputs": [
    {
     "data": {
      "text/plain": [
       "array([[ 0.90865721,  1.23491433, -0.17781023],\n",
       "       [-0.07704893,  0.61656516,  1.3320255 ]])"
      ]
     },
     "execution_count": 9,
     "metadata": {},
     "output_type": "execute_result"
    }
   ],
   "execution_count": 9
  },
  {
   "metadata": {
    "ExecuteTime": {
     "end_time": "2025-03-25T15:24:41.877030Z",
     "start_time": "2025-03-25T15:24:41.873029Z"
    }
   },
   "cell_type": "code",
   "source": "b",
   "id": "f1e54d10b90d092d",
   "outputs": [
    {
     "data": {
      "text/plain": [
       "array([-0.58758869, -0.09955587, -0.44303561])"
      ]
     },
     "execution_count": 10,
     "metadata": {},
     "output_type": "execute_result"
    }
   ],
   "execution_count": 10
  },
  {
   "metadata": {
    "ExecuteTime": {
     "end_time": "2025-03-25T15:27:57.301925Z",
     "start_time": "2025-03-25T15:27:57.297919Z"
    }
   },
   "cell_type": "code",
   "source": [
    "at, bt = torch.randn(3), torch.ones(3)\n",
    "at, bt"
   ],
   "id": "3005b02090dfbd16",
   "outputs": [
    {
     "data": {
      "text/plain": [
       "(tensor([0.5922, 1.3665, 1.2619]), tensor([1., 1., 1.]))"
      ]
     },
     "execution_count": 27,
     "metadata": {},
     "output_type": "execute_result"
    }
   ],
   "execution_count": 27
  },
  {
   "metadata": {
    "ExecuteTime": {
     "end_time": "2025-03-25T15:27:57.502238Z",
     "start_time": "2025-03-25T15:27:57.498520Z"
    }
   },
   "cell_type": "code",
   "source": "a*b",
   "id": "2bc51ec620c0f2c6",
   "outputs": [
    {
     "data": {
      "text/plain": [
       "array([[-0.5339167 , -0.12294297,  0.07877626],\n",
       "       [ 0.04527308, -0.06138268, -0.59013473]])"
      ]
     },
     "execution_count": 28,
     "metadata": {},
     "output_type": "execute_result"
    }
   ],
   "execution_count": 28
  },
  {
   "metadata": {
    "ExecuteTime": {
     "end_time": "2025-03-25T15:27:57.676859Z",
     "start_time": "2025-03-25T15:27:57.672505Z"
    }
   },
   "cell_type": "code",
   "source": "at*bt",
   "id": "e36dfe939cb5e7e6",
   "outputs": [
    {
     "data": {
      "text/plain": [
       "tensor([0.5922, 1.3665, 1.2619])"
      ]
     },
     "execution_count": 29,
     "metadata": {},
     "output_type": "execute_result"
    }
   ],
   "execution_count": 29
  },
  {
   "metadata": {
    "ExecuteTime": {
     "end_time": "2025-03-25T15:27:57.869990Z",
     "start_time": "2025-03-25T15:27:57.866521Z"
    }
   },
   "cell_type": "code",
   "source": "np.dot(a, b)",
   "id": "dc7032df70d450a9",
   "outputs": [
    {
     "data": {
      "text/plain": [
       "array([-0.5780834 , -0.60624433])"
      ]
     },
     "execution_count": 30,
     "metadata": {},
     "output_type": "execute_result"
    }
   ],
   "execution_count": 30
  },
  {
   "metadata": {
    "ExecuteTime": {
     "end_time": "2025-03-25T15:27:58.334795Z",
     "start_time": "2025-03-25T15:27:58.331610Z"
    }
   },
   "cell_type": "code",
   "source": "torch.dot(at, bt)",
   "id": "27870bea3a82a7be",
   "outputs": [
    {
     "data": {
      "text/plain": [
       "tensor(3.2205)"
      ]
     },
     "execution_count": 31,
     "metadata": {},
     "output_type": "execute_result"
    }
   ],
   "execution_count": 31
  },
  {
   "metadata": {
    "ExecuteTime": {
     "end_time": "2025-03-25T15:28:46.377176Z",
     "start_time": "2025-03-25T15:28:46.374174Z"
    }
   },
   "cell_type": "code",
   "source": [
    "ct = torch.randint(255, (3,))\n",
    "ct"
   ],
   "id": "fbb00f4433817064",
   "outputs": [
    {
     "data": {
      "text/plain": [
       "tensor([115, 102, 148])"
      ]
     },
     "execution_count": 33,
     "metadata": {},
     "output_type": "execute_result"
    }
   ],
   "execution_count": 33
  },
  {
   "metadata": {
    "ExecuteTime": {
     "end_time": "2025-03-25T15:29:10.630326Z",
     "start_time": "2025-03-25T15:29:10.620170Z"
    }
   },
   "cell_type": "code",
   "source": "torch.dot(at, ct)",
   "id": "454b43d4aeb04874",
   "outputs": [
    {
     "ename": "RuntimeError",
     "evalue": "dot : expected both vectors to have same dtype, but found Float and Long",
     "output_type": "error",
     "traceback": [
      "\u001B[0;31m---------------------------------------------------------------------------\u001B[0m",
      "\u001B[0;31mRuntimeError\u001B[0m                              Traceback (most recent call last)",
      "Cell \u001B[0;32mIn[34], line 1\u001B[0m\n\u001B[0;32m----> 1\u001B[0m \u001B[43mtorch\u001B[49m\u001B[38;5;241;43m.\u001B[39;49m\u001B[43mdot\u001B[49m\u001B[43m(\u001B[49m\u001B[43mat\u001B[49m\u001B[43m,\u001B[49m\u001B[43m \u001B[49m\u001B[43mct\u001B[49m\u001B[43m)\u001B[49m\n",
      "\u001B[0;31mRuntimeError\u001B[0m: dot : expected both vectors to have same dtype, but found Float and Long"
     ]
    }
   ],
   "execution_count": 34
  },
  {
   "metadata": {
    "ExecuteTime": {
     "end_time": "2025-03-25T15:29:44.738250Z",
     "start_time": "2025-03-25T15:29:44.733636Z"
    }
   },
   "cell_type": "code",
   "source": [
    "c = np.random.randint(1, 255, (3,))\n",
    "c"
   ],
   "id": "f95b6d7a0cda96e8",
   "outputs": [
    {
     "data": {
      "text/plain": [
       "array([ 78, 250,   1])"
      ]
     },
     "execution_count": 36,
     "metadata": {},
     "output_type": "execute_result"
    }
   ],
   "execution_count": 36
  },
  {
   "metadata": {
    "ExecuteTime": {
     "end_time": "2025-03-25T15:30:24.597536Z",
     "start_time": "2025-03-25T15:30:24.594179Z"
    }
   },
   "cell_type": "code",
   "source": "np.dot(a, c)",
   "id": "3e57272c2f1ce6c5",
   "outputs": [
    {
     "data": {
      "text/plain": [
       "array([379.42603504, 149.46349826])"
      ]
     },
     "execution_count": 40,
     "metadata": {},
     "output_type": "execute_result"
    }
   ],
   "execution_count": 40
  },
  {
   "metadata": {
    "ExecuteTime": {
     "end_time": "2025-03-25T15:37:47.430695Z",
     "start_time": "2025-03-25T15:37:47.425364Z"
    }
   },
   "cell_type": "code",
   "source": [
    "m1 = torch.randn((3,2))\n",
    "m2 = torch.randn((2,3))\n",
    "torch.matmul(m2, m1)"
   ],
   "id": "f2db033752fcdc53",
   "outputs": [
    {
     "data": {
      "text/plain": [
       "tensor([[-0.4091,  0.8136],\n",
       "        [-0.9587,  0.2512]])"
      ]
     },
     "execution_count": 58,
     "metadata": {},
     "output_type": "execute_result"
    }
   ],
   "execution_count": 58
  },
  {
   "metadata": {
    "ExecuteTime": {
     "end_time": "2025-03-25T15:37:47.733867Z",
     "start_time": "2025-03-25T15:37:47.721055Z"
    }
   },
   "cell_type": "code",
   "source": "m1.to('cuda').device, m1.device",
   "id": "d269326e131aa06e",
   "outputs": [
    {
     "data": {
      "text/plain": [
       "(device(type='cuda', index=0), device(type='cpu'))"
      ]
     },
     "execution_count": 59,
     "metadata": {},
     "output_type": "execute_result"
    }
   ],
   "execution_count": 59
  },
  {
   "metadata": {
    "ExecuteTime": {
     "end_time": "2025-03-25T15:37:48.202949Z",
     "start_time": "2025-03-25T15:37:48.190549Z"
    }
   },
   "cell_type": "code",
   "source": "torch.matmul(m1.to('cuda'), m1)",
   "id": "e1c3fabfbcceb717",
   "outputs": [
    {
     "ename": "RuntimeError",
     "evalue": "Expected all tensors to be on the same device, but found at least two devices, cuda:0 and cpu! (when checking argument for argument mat2 in method wrapper_CUDA_mm)",
     "output_type": "error",
     "traceback": [
      "\u001B[0;31m---------------------------------------------------------------------------\u001B[0m",
      "\u001B[0;31mRuntimeError\u001B[0m                              Traceback (most recent call last)",
      "Cell \u001B[0;32mIn[60], line 1\u001B[0m\n\u001B[0;32m----> 1\u001B[0m \u001B[43mtorch\u001B[49m\u001B[38;5;241;43m.\u001B[39;49m\u001B[43mmatmul\u001B[49m\u001B[43m(\u001B[49m\u001B[43mm1\u001B[49m\u001B[38;5;241;43m.\u001B[39;49m\u001B[43mto\u001B[49m\u001B[43m(\u001B[49m\u001B[38;5;124;43m'\u001B[39;49m\u001B[38;5;124;43mcuda\u001B[39;49m\u001B[38;5;124;43m'\u001B[39;49m\u001B[43m)\u001B[49m\u001B[43m,\u001B[49m\u001B[43m \u001B[49m\u001B[43mm1\u001B[49m\u001B[43m)\u001B[49m\n",
      "\u001B[0;31mRuntimeError\u001B[0m: Expected all tensors to be on the same device, but found at least two devices, cuda:0 and cpu! (when checking argument for argument mat2 in method wrapper_CUDA_mm)"
     ]
    }
   ],
   "execution_count": 60
  },
  {
   "metadata": {
    "ExecuteTime": {
     "end_time": "2025-03-25T15:37:58.577285Z",
     "start_time": "2025-03-25T15:37:58.573505Z"
    }
   },
   "cell_type": "code",
   "source": "torch.matmul(m1.to(device), m2.to(device)).cpu()",
   "id": "fcf53a25201d5cc2",
   "outputs": [
    {
     "data": {
      "text/plain": [
       "tensor([[ 0.0756, -2.8016, -5.1407],\n",
       "        [-0.1326, -0.9905, -1.5915],\n",
       "        [ 0.1791,  0.5627,  0.7570]])"
      ]
     },
     "execution_count": 62,
     "metadata": {},
     "output_type": "execute_result"
    }
   ],
   "execution_count": 62
  },
  {
   "metadata": {
    "ExecuteTime": {
     "end_time": "2025-03-25T15:40:51.030611Z",
     "start_time": "2025-03-25T15:40:51.027113Z"
    }
   },
   "cell_type": "code",
   "source": [
    "big_arr = np.ones((3,3)).astype('float32')\n",
    "print(torch.tensor(big_arr, requires_grad=True))"
   ],
   "id": "deb1821c9b59a309",
   "outputs": [
    {
     "name": "stdout",
     "output_type": "stream",
     "text": [
      "tensor([[1., 1., 1.],\n",
      "        [1., 1., 1.],\n",
      "        [1., 1., 1.]], requires_grad=True)\n"
     ]
    }
   ],
   "execution_count": 69
  },
  {
   "metadata": {
    "ExecuteTime": {
     "end_time": "2025-03-25T15:46:43.143034Z",
     "start_time": "2025-03-25T15:46:43.130735Z"
    }
   },
   "cell_type": "code",
   "source": [
    "x = torch.tensor([[1., -1.], [1., 1.]], requires_grad=True)\n",
    "x1 = torch.tensor([[1.]],requires_grad=True)\n",
    "print(x.dtype)\n",
    "out = x1.item()\n",
    "print(out)\n",
    "out.backward()\n",
    "x.grad"
   ],
   "id": "3c642d230131635",
   "outputs": [
    {
     "name": "stdout",
     "output_type": "stream",
     "text": [
      "torch.float32\n",
      "1.0\n"
     ]
    },
    {
     "ename": "AttributeError",
     "evalue": "'float' object has no attribute 'backward'",
     "output_type": "error",
     "traceback": [
      "\u001B[0;31m---------------------------------------------------------------------------\u001B[0m",
      "\u001B[0;31mAttributeError\u001B[0m                            Traceback (most recent call last)",
      "Cell \u001B[0;32mIn[80], line 6\u001B[0m\n\u001B[1;32m      4\u001B[0m out \u001B[38;5;241m=\u001B[39m x1\u001B[38;5;241m.\u001B[39mitem()\n\u001B[1;32m      5\u001B[0m \u001B[38;5;28mprint\u001B[39m(out)\n\u001B[0;32m----> 6\u001B[0m \u001B[43mout\u001B[49m\u001B[38;5;241;43m.\u001B[39;49m\u001B[43mbackward\u001B[49m()\n\u001B[1;32m      7\u001B[0m x\u001B[38;5;241m.\u001B[39mgrad\n",
      "\u001B[0;31mAttributeError\u001B[0m: 'float' object has no attribute 'backward'"
     ]
    }
   ],
   "execution_count": 80
  },
  {
   "metadata": {
    "ExecuteTime": {
     "end_time": "2025-03-25T15:43:27.162353Z",
     "start_time": "2025-03-25T15:43:27.159128Z"
    }
   },
   "cell_type": "code",
   "source": "x==1",
   "id": "8f3a4bdfad2a5bb8",
   "outputs": [
    {
     "data": {
      "text/plain": [
       "tensor([[ True, False],\n",
       "        [ True,  True]])"
      ]
     },
     "execution_count": 72,
     "metadata": {},
     "output_type": "execute_result"
    }
   ],
   "execution_count": 72
  },
  {
   "metadata": {
    "ExecuteTime": {
     "end_time": "2025-03-25T16:00:19.221560Z",
     "start_time": "2025-03-25T16:00:19.219629Z"
    }
   },
   "cell_type": "code",
   "source": "from torch.nn import Module, Linear, ReLU, Softmax, ModuleList, Sequential",
   "id": "46797f541643f630",
   "outputs": [],
   "execution_count": 101
  },
  {
   "metadata": {
    "ExecuteTime": {
     "end_time": "2025-03-25T16:00:19.439042Z",
     "start_time": "2025-03-25T16:00:19.431855Z"
    }
   },
   "cell_type": "code",
   "source": [
    "class MyNN(Module):\n",
    "\n",
    "    def __init__(self):\n",
    "        super().__init__()\n",
    "        self.layers = ModuleList([\n",
    "            Linear(in_features=2, out_features=3),\n",
    "            ReLU(),\n",
    "            Linear(in_features=3, out_features=2),\n",
    "            ReLU(),\n",
    "            Linear(in_features=2, out_features=2),\n",
    "        ])\n",
    "\n",
    "\n",
    "    def forward(self, x):\n",
    "        for layer in self.layers:\n",
    "            x = layer(x)\n",
    "        return Softmax(dim=-1)(x)\n",
    "\n",
    "\n",
    "nn = MyNN()\n",
    "res = nn(torch.tensor([1.,1.]))\n",
    "res"
   ],
   "id": "6ad11c988294f053",
   "outputs": [
    {
     "data": {
      "text/plain": [
       "tensor([0.5611, 0.4389], grad_fn=<SoftmaxBackward0>)"
      ]
     },
     "execution_count": 102,
     "metadata": {},
     "output_type": "execute_result"
    }
   ],
   "execution_count": 102
  },
  {
   "metadata": {
    "ExecuteTime": {
     "end_time": "2025-03-25T16:00:19.611527Z",
     "start_time": "2025-03-25T16:00:19.607184Z"
    }
   },
   "cell_type": "code",
   "source": [
    "sq = Sequential(\n",
    "    Linear(in_features=2, out_features=3),\n",
    "    ReLU(),\n",
    "    Linear(in_features=3, out_features=2),\n",
    "    Softmax(dim=-1)\n",
    ")\n",
    "res = sq(torch.tensor([1.,1.]))\n",
    "res"
   ],
   "id": "2fe0029ca7eccfe7",
   "outputs": [
    {
     "data": {
      "text/plain": [
       "tensor([0.2237, 0.7763], grad_fn=<SoftmaxBackward0>)"
      ]
     },
     "execution_count": 103,
     "metadata": {},
     "output_type": "execute_result"
    }
   ],
   "execution_count": 103
  },
  {
   "metadata": {},
   "cell_type": "code",
   "outputs": [],
   "execution_count": null,
   "source": "",
   "id": "80723ffe86a1c8c4"
  }
 ],
 "metadata": {
  "kernelspec": {
   "display_name": "Python 3",
   "language": "python",
   "name": "python3"
  },
  "language_info": {
   "codemirror_mode": {
    "name": "ipython",
    "version": 2
   },
   "file_extension": ".py",
   "mimetype": "text/x-python",
   "name": "python",
   "nbconvert_exporter": "python",
   "pygments_lexer": "ipython2",
   "version": "2.7.6"
  }
 },
 "nbformat": 4,
 "nbformat_minor": 5
}
